{
 "cells": [
  {
   "cell_type": "code",
   "execution_count": 6,
   "id": "4f4d90a4",
   "metadata": {},
   "outputs": [
    {
     "name": "stdout",
     "output_type": "stream",
     "text": [
      "Input Data:\n",
      "   Temperature  Dew Point   Humidity  Wind Speed   Pressure  IntCondition  \\\n",
      "0    61.069767  31.534884  36.023256    5.627907  29.999535             3   \n",
      "\n",
      "   IntSeason  Event  \n",
      "0          1      0  \n",
      "\n",
      "Prediction:\n",
      "[428.52892715]\n"
     ]
    }
   ],
   "source": [
    "import pickle\n",
    "import pandas as pd\n",
    "# Load the trained model from the Pickle file\n",
    "with open('p10_weekly.pkl', 'rb') as model_file:\n",
    "    loaded_model = pickle.load(model_file)\n",
    "\n",
    "# Create a dictionary with the feature values for a single data point\n",
    "single_data_point = {\n",
    "    'Temperature': 61.06976744,\n",
    "    'Dew Point': 31.53488372,\n",
    "    'Humidity': 36.02325581,\n",
    "    'Wind Speed': 5.627906977,\n",
    "    'Pressure': 29.99953488,\n",
    "    'IntCondition': 3,\n",
    "    'IntSeason': 1,\n",
    "    'Event': 0\n",
    "}\n",
    "\n",
    "\n",
    "# Convert the single data point into a DataFrame with one row\n",
    "single_data_point_df = pd.DataFrame([single_data_point])\n",
    "\n",
    "# Use the loaded model to make a prediction for the single data point\n",
    "prediction = loaded_model.predict(single_data_point_df)\n",
    "\n",
    "# The 'prediction' variable now contains the predicted label or value for the single data point\n",
    "# Print the input data\n",
    "print(\"Input Data:\")\n",
    "print(single_data_point_df)\n",
    "\n",
    "# Print the prediction\n",
    "print(\"\\nPrediction:\")\n",
    "print(prediction)"
   ]
  },
  {
   "cell_type": "code",
   "execution_count": 5,
   "id": "2681945c",
   "metadata": {},
   "outputs": [
    {
     "name": "stdout",
     "output_type": "stream",
     "text": [
      "Input Data:\n",
      "   Temperature  Dew Point   Humidity  Wind Speed   Pressure  IntCondition  \\\n",
      "0    88.265752  68.910513  56.691023   12.135189  29.496362             5   \n",
      "\n",
      "   IntSeason  Event  \n",
      "0          2      1  \n",
      "\n",
      "Prediction:\n",
      "[3716.18527973]\n"
     ]
    }
   ],
   "source": [
    "\n",
    "import pickle\n",
    "import pandas as pd\n",
    "# Load the trained model from the Pickle file\n",
    "with open('p1_qtr.pkl', 'rb') as model_file:\n",
    "    loaded_model = pickle.load(model_file)\n",
    "\n",
    "# Create a dictionary with the feature values for a single data point\n",
    "single_data_point = {\n",
    "    'Temperature': 88.26575174,\n",
    "    'Dew Point': 68.91051264,\n",
    "    'Humidity': 56.69102326,\n",
    "    'Wind Speed': 12.13518899,\n",
    "    'Pressure': 29.49636236,\n",
    "    'IntCondition': 5,\n",
    "    'IntSeason': 2,\n",
    "    'Event': 1\n",
    "}\n",
    "\n",
    "\n",
    "# Convert the single data point into a DataFrame with one row\n",
    "single_data_point_df = pd.DataFrame([single_data_point])\n",
    "\n",
    "# Use the loaded model to make a prediction for the single data point\n",
    "prediction = loaded_model.predict(single_data_point_df)\n",
    "\n",
    "# The 'prediction' variable now contains the predicted label or value for the single data point\n",
    "# Print the input data\n",
    "print(\"Input Data:\")\n",
    "print(single_data_point_df)\n",
    "\n",
    "# Print the prediction\n",
    "print(\"\\nPrediction:\")\n",
    "print(prediction)"
   ]
  },
  {
   "cell_type": "code",
   "execution_count": null,
   "id": "b77bb215",
   "metadata": {},
   "outputs": [],
   "source": []
  }
 ],
 "metadata": {
  "kernelspec": {
   "display_name": "Python 3 (ipykernel)",
   "language": "python",
   "name": "python3"
  },
  "language_info": {
   "codemirror_mode": {
    "name": "ipython",
    "version": 3
   },
   "file_extension": ".py",
   "mimetype": "text/x-python",
   "name": "python",
   "nbconvert_exporter": "python",
   "pygments_lexer": "ipython3",
   "version": "3.10.9"
  }
 },
 "nbformat": 4,
 "nbformat_minor": 5
}
