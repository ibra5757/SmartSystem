{
 "cells": [
  {
   "cell_type": "code",
   "execution_count": null,
   "id": "b908068c",
   "metadata": {},
   "outputs": [
    {
     "name": "stdout",
     "output_type": "stream",
     "text": [
      "What is the mobile operating system? (iOS/Android/Windows) ios\n",
      "Does the mobile have a touchscreen? (yes/no) yes\n",
      "What is the mobile screen size? (large/medium/small) small\n",
      "Is the mobile budget-friendly? (yes/no) yes\n",
      "What is the mobile operating system? (iOS/Android/Windows) window\n"
     ]
    }
   ],
   "source": [
    "global facts\n",
    "global is_changed\n",
    "is_changed = True\n",
    "facts = [[\"is_ios\", \"is_android\", \"is_windows\", \"is_touchscreen\", \"is_keypad\"],\n",
    "         [\"is_large\", \"is_medium\", \"is_small\", \"is_high_end\", \"is_budget\"]]\n",
    "\n",
    "def assert_facts(fact):\n",
    "    global facts\n",
    "    global is_changed\n",
    "    if not fact in facts:\n",
    "        facts += [fact]\n",
    "        is_changed = True\n",
    "\n",
    "while is_changed:\n",
    "    is_changed = False\n",
    "    for AI in facts:\n",
    "        os = input(\"What is the mobile operating system? (iOS/Android/Windows) \")\n",
    "        touchscreen = input(\"Does the mobile have a touchscreen? (yes/no) \")\n",
    "        size = input(\"What is the mobile screen size? (large/medium/small) \")\n",
    "        budget = input(\"Is the mobile budget-friendly? (yes/no) \")\n",
    "        \n",
    "        if os == \"iOS\":\n",
    "            assert_facts([\"is_ios\", AI[0]])\n",
    "        elif os == \"Android\":\n",
    "            assert_facts([\"is_android\", AI[1]])\n",
    "        elif os == \"Windows\":\n",
    "            assert_facts([\"is_windows\", AI[2]])\n",
    "        \n",
    "        if touchscreen == \"yes\":\n",
    "            assert_facts([\"is_touchscreen\", AI[3]])\n",
    "        else:\n",
    "            assert_facts([\"is_keypad\", AI[4]])\n",
    "            \n",
    "        if size == \"large\":\n",
    "            assert_facts([\"is_large\", AI[0]])\n",
    "        elif size == \"medium\":\n",
    "            assert_facts([\"is_medium\", AI[1]])\n",
    "        elif size == \"small\":\n",
    "            assert_facts([\"is_small\", AI[2]])\n",
    "            \n",
    "        if budget == \"yes\":\n",
    "            assert_facts([\"is_budget\", AI[4]])\n",
    "        else:\n",
    "            assert_facts([\"is_high_end\", AI[3]])\n",
    "\n",
    "print(facts)\n"
   ]
  },
  {
   "cell_type": "code",
   "execution_count": null,
   "id": "818d4dda",
   "metadata": {},
   "outputs": [],
   "source": []
  }
 ],
 "metadata": {
  "kernelspec": {
   "display_name": "Python 3 (ipykernel)",
   "language": "python",
   "name": "python3"
  },
  "language_info": {
   "codemirror_mode": {
    "name": "ipython",
    "version": 3
   },
   "file_extension": ".py",
   "mimetype": "text/x-python",
   "name": "python",
   "nbconvert_exporter": "python",
   "pygments_lexer": "ipython3",
   "version": "3.9.12"
  }
 },
 "nbformat": 4,
 "nbformat_minor": 5
}
